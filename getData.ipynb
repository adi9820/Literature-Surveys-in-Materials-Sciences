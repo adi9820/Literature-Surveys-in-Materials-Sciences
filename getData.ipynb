{
  "cells": [
    {
      "cell_type": "code",
      "source": [
        "!pip install xnetwork"
      ],
      "metadata": {
        "colab": {
          "base_uri": "https://localhost:8080/"
        },
        "id": "XnJkaQfZhYPG",
        "outputId": "7dd64493-3e4c-413a-9013-349849538e18"
      },
      "execution_count": 2,
      "outputs": [
        {
          "output_type": "stream",
          "name": "stdout",
          "text": [
            "Collecting xnetwork\n",
            "  Downloading xnetwork-1.0.4.tar.gz (7.7 kB)\n",
            "  Preparing metadata (setup.py) ... \u001b[?25l\u001b[?25hdone\n",
            "Collecting python-igraph (from xnetwork)\n",
            "  Downloading python_igraph-0.11.6-py3-none-any.whl (9.1 kB)\n",
            "Requirement already satisfied: numpy in /usr/local/lib/python3.10/dist-packages (from xnetwork) (1.25.2)\n",
            "Collecting igraph==0.11.6 (from python-igraph->xnetwork)\n",
            "  Downloading igraph-0.11.6-cp39-abi3-manylinux_2_17_x86_64.manylinux2014_x86_64.whl (3.1 MB)\n",
            "\u001b[2K     \u001b[90m━━━━━━━━━━━━━━━━━━━━━━━━━━━━━━━━━━━━━━━━\u001b[0m \u001b[32m3.1/3.1 MB\u001b[0m \u001b[31m13.1 MB/s\u001b[0m eta \u001b[36m0:00:00\u001b[0m\n",
            "\u001b[?25hCollecting texttable>=1.6.2 (from igraph==0.11.6->python-igraph->xnetwork)\n",
            "  Downloading texttable-1.7.0-py2.py3-none-any.whl (10 kB)\n",
            "Building wheels for collected packages: xnetwork\n",
            "  Building wheel for xnetwork (setup.py) ... \u001b[?25l\u001b[?25hdone\n",
            "  Created wheel for xnetwork: filename=xnetwork-1.0.4-py3-none-any.whl size=6744 sha256=84f0f14c2ba4d2b88e43270733a6e6a0fa7ef1b39b883279665f03852c1bc551\n",
            "  Stored in directory: /root/.cache/pip/wheels/d3/30/07/1f290745f5a91845aa34e5cc916f1054a4ea38a00e52e397cb\n",
            "Successfully built xnetwork\n",
            "Installing collected packages: texttable, igraph, python-igraph, xnetwork\n",
            "Successfully installed igraph-0.11.6 python-igraph-0.11.6 texttable-1.7.0 xnetwork-1.0.4\n"
          ]
        }
      ]
    },
    {
      "cell_type": "code",
      "execution_count": 4,
      "metadata": {
        "id": "JqE_JEe5fqNd"
      },
      "outputs": [],
      "source": [
        "from math import ceil\n",
        "from tqdm import tqdm\n",
        "import requests as rq\n",
        "import pandas as pd\n",
        "import json\n",
        "import xnetwork as xnet\n",
        "import igraph"
      ]
    },
    {
      "cell_type": "code",
      "execution_count": 44,
      "metadata": {
        "id": "o-JGYPxtfqNe"
      },
      "outputs": [],
      "source": [
        "url_cursor = 'https://api.openalex.org/works?per-page=200&filter=title_and_abstract.search:\"Langmuir monolayers and Langmuir-Blodgett films\"&cursor=*'\n",
        "# First GET to next_cursor and results\n",
        "response = rq.get(url=url_cursor)\n",
        "result = response.json()\n",
        "cursor = result['meta']['next_cursor']\n",
        "data = result['results']"
      ]
    },
    {
      "cell_type": "code",
      "execution_count": 45,
      "metadata": {
        "id": "8VlGHk3bfqNe"
      },
      "outputs": [],
      "source": [
        "total = result['meta']['count']\n",
        "per_page = 200\n",
        "num_cursor = ceil(total/per_page)\n",
        "# New URL to loop\n",
        "url = 'https://api.openalex.org/works?mailto=luanft9@gmail.com&per-page=200&filter=title_and_abstract.search:\"Langmuir monolayers and Langmuir-Blodgett films\"'"
      ]
    },
    {
      "cell_type": "code",
      "execution_count": 46,
      "metadata": {
        "colab": {
          "base_uri": "https://localhost:8080/"
        },
        "id": "423Edqk7fqNf",
        "outputId": "92c0d70a-bae3-41a1-f0fa-63325cea5da8"
      },
      "outputs": [
        {
          "output_type": "stream",
          "name": "stdout",
          "text": [
            "Requesting data:\n"
          ]
        },
        {
          "output_type": "stream",
          "name": "stderr",
          "text": [
            "100%|██████████| 1/1 [00:00<00:00,  3.44it/s]"
          ]
        },
        {
          "output_type": "stream",
          "name": "stdout",
          "text": [
            "Request Complete\n"
          ]
        },
        {
          "output_type": "stream",
          "name": "stderr",
          "text": [
            "\n"
          ]
        }
      ],
      "source": [
        "# Next request\n",
        "print(\"Requesting data:\")\n",
        "for n_cursor in tqdm(range(num_cursor)):\n",
        "    # Making the url with the parameters and next_cursor\n",
        "    url_cursor = url + f'&cursor={cursor}'\n",
        "\n",
        "    # Next GET to next_cursor and results\n",
        "    response = rq.get(url=url_cursor)\n",
        "    result = response.json()\n",
        "    cursor = result['meta']['next_cursor']\n",
        "    data += result['results']\n",
        "print(\"Request Complete\")"
      ]
    },
    {
      "cell_type": "code",
      "execution_count": 47,
      "metadata": {
        "id": "UIv5a7K6fqNf"
      },
      "outputs": [],
      "source": [
        "# Treat abstract\n",
        "def abstract(abstract):\n",
        "    try:\n",
        "        # Extract values\n",
        "        all_values = [values for list_ in abstract.values() for values in list_]\n",
        "\n",
        "        # Find max value\n",
        "        max_value = max(all_values)\n",
        "\n",
        "        list_ = [None] * (max_value + 1)\n",
        "\n",
        "        for key, values in abstract.items():\n",
        "            for v in values:\n",
        "                list_[v] = key\n",
        "\n",
        "        abstract = \" \".join(list_)\n",
        "\n",
        "        return abstract\n",
        "    except:\n",
        "        return ''\n",
        "\n",
        "# Treat titles\n",
        "def titlex(title):\n",
        "    if title == None:\n",
        "        return 'No title'\n",
        "    else:\n",
        "        return title"
      ]
    },
    {
      "cell_type": "code",
      "execution_count": 48,
      "metadata": {
        "id": "St0xs5bBfqNf"
      },
      "outputs": [],
      "source": [
        "names = []\n",
        "titles = []\n",
        "absts = []\n",
        "urefs = []\n",
        "\n",
        "for i in data:\n",
        "    uid = i['id']\n",
        "    title = i['title']\n",
        "    abst = i['abstract_inverted_index']\n",
        "    # refs = wos.utilities.getReferences(entry)\n",
        "    ud_refs = i['referenced_works']\n",
        "\n",
        "    names.append(uid)\n",
        "    titles.append(titlex(title))\n",
        "    absts.append(abstract(abst))\n",
        "    urefs.append(ud_refs)"
      ]
    },
    {
      "cell_type": "code",
      "execution_count": 49,
      "metadata": {
        "id": "eNcch6vNfqNf"
      },
      "outputs": [],
      "source": [
        "edges = []\n",
        "names_set = set(names)\n",
        "for uid, ud_refs in zip(names, urefs):\n",
        "    for p in ud_refs:\n",
        "        if p in names_set:\n",
        "            pair = (uid, p)\n",
        "            edges.append(pair)"
      ]
    },
    {
      "cell_type": "code",
      "execution_count": 50,
      "metadata": {
        "id": "xfZyypCvfqNf"
      },
      "outputs": [],
      "source": [
        "net = igraph.Graph()\n",
        "net.add_vertices(len(names))\n",
        "net.vs['name'] = names\n",
        "net.vs['title'] = titles\n",
        "net.vs['abstract'] = absts\n",
        "net.add_edges(edges)"
      ]
    },
    {
      "cell_type": "code",
      "source": [
        "# Saving network\n",
        "xnet.igraph2xnet(g=net, fileName='net_electronic_tongue.xnet')"
      ],
      "metadata": {
        "id": "jx5_ZDl8g3q2"
      },
      "execution_count": 51,
      "outputs": []
    },
    {
      "cell_type": "code",
      "source": [],
      "metadata": {
        "id": "L7rXYHBcm2LJ"
      },
      "execution_count": null,
      "outputs": []
    }
  ],
  "metadata": {
    "language_info": {
      "name": "python"
    },
    "colab": {
      "provenance": []
    },
    "kernelspec": {
      "name": "python3",
      "display_name": "Python 3"
    }
  },
  "nbformat": 4,
  "nbformat_minor": 0
}