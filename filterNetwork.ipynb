{
  "cells": [
    {
      "cell_type": "code",
      "source": [
        "!pip install xnetwork igraph"
      ],
      "metadata": {
        "colab": {
          "base_uri": "https://localhost:8080/"
        },
        "id": "htuFjZ_rKmxf",
        "outputId": "9dd98926-2a23-491d-8d9e-ee9de94fbb08"
      },
      "execution_count": 3,
      "outputs": [
        {
          "output_type": "stream",
          "name": "stdout",
          "text": [
            "Collecting xnetwork\n",
            "  Downloading xnetwork-1.0.4.tar.gz (7.7 kB)\n",
            "  Preparing metadata (setup.py) ... \u001b[?25l\u001b[?25hdone\n",
            "Collecting igraph\n",
            "  Downloading igraph-0.11.6-cp39-abi3-manylinux_2_17_x86_64.manylinux2014_x86_64.whl.metadata (3.9 kB)\n",
            "Collecting python-igraph (from xnetwork)\n",
            "  Downloading python_igraph-0.11.6-py3-none-any.whl.metadata (2.8 kB)\n",
            "Requirement already satisfied: numpy in /usr/local/lib/python3.10/dist-packages (from xnetwork) (1.26.4)\n",
            "Collecting texttable>=1.6.2 (from igraph)\n",
            "  Downloading texttable-1.7.0-py2.py3-none-any.whl.metadata (9.8 kB)\n",
            "Downloading igraph-0.11.6-cp39-abi3-manylinux_2_17_x86_64.manylinux2014_x86_64.whl (3.1 MB)\n",
            "\u001b[2K   \u001b[90m━━━━━━━━━━━━━━━━━━━━━━━━━━━━━━━━━━━━━━━━\u001b[0m \u001b[32m3.1/3.1 MB\u001b[0m \u001b[31m25.9 MB/s\u001b[0m eta \u001b[36m0:00:00\u001b[0m\n",
            "\u001b[?25hDownloading texttable-1.7.0-py2.py3-none-any.whl (10 kB)\n",
            "Downloading python_igraph-0.11.6-py3-none-any.whl (9.1 kB)\n",
            "Building wheels for collected packages: xnetwork\n",
            "  Building wheel for xnetwork (setup.py) ... \u001b[?25l\u001b[?25hdone\n",
            "  Created wheel for xnetwork: filename=xnetwork-1.0.4-py3-none-any.whl size=6744 sha256=77f02029f547920339306626fbc5aea05c68b9086fcc3e7b4068a6669ccbd9fa\n",
            "  Stored in directory: /root/.cache/pip/wheels/d3/30/07/1f290745f5a91845aa34e5cc916f1054a4ea38a00e52e397cb\n",
            "Successfully built xnetwork\n",
            "Installing collected packages: texttable, igraph, python-igraph, xnetwork\n",
            "Successfully installed igraph-0.11.6 python-igraph-0.11.6 texttable-1.7.0 xnetwork-1.0.4\n"
          ]
        }
      ]
    },
    {
      "cell_type": "code",
      "execution_count": 15,
      "metadata": {
        "id": "CslZi9LbKmIR"
      },
      "outputs": [],
      "source": [
        "import xnetwork as xnet\n",
        "import igraph"
      ]
    },
    {
      "cell_type": "code",
      "execution_count": 19,
      "metadata": {
        "colab": {
          "base_uri": "https://localhost:8080/",
          "height": 297
        },
        "id": "brnwh-zFKmIT",
        "outputId": "440f253d-d22d-4b48-fd3a-37f050d4819d"
      },
      "outputs": [
        {
          "output_type": "error",
          "ename": "IndexError",
          "evalue": "vertex index out of range",
          "traceback": [
            "\u001b[0;31m---------------------------------------------------------------------------\u001b[0m",
            "\u001b[0;31mIndexError\u001b[0m                                Traceback (most recent call last)",
            "\u001b[0;32m<ipython-input-19-17fdeaeb5a4f>\u001b[0m in \u001b[0;36m<cell line: 4>\u001b[0;34m()\u001b[0m\n\u001b[1;32m      2\u001b[0m \u001b[0mnet_2\u001b[0m \u001b[0;34m=\u001b[0m \u001b[0mnet\u001b[0m\u001b[0;34m.\u001b[0m\u001b[0mvs\u001b[0m\u001b[0;34m.\u001b[0m\u001b[0mselect\u001b[0m\u001b[0;34m(\u001b[0m\u001b[0mClusterIndex_ne\u001b[0m\u001b[0;34m=\u001b[0m\u001b[0;36m2.0\u001b[0m\u001b[0;34m)\u001b[0m\u001b[0;34m\u001b[0m\u001b[0;34m\u001b[0m\u001b[0m\n\u001b[1;32m      3\u001b[0m \u001b[0mnet\u001b[0m\u001b[0;34m.\u001b[0m\u001b[0mdelete_vertices\u001b[0m\u001b[0;34m(\u001b[0m\u001b[0mnet_2\u001b[0m\u001b[0;34m)\u001b[0m\u001b[0;34m\u001b[0m\u001b[0;34m\u001b[0m\u001b[0m\n\u001b[0;32m----> 4\u001b[0;31m \u001b[0mxnet\u001b[0m\u001b[0;34m.\u001b[0m\u001b[0migraph2xnet\u001b[0m\u001b[0;34m(\u001b[0m\u001b[0mnet\u001b[0m\u001b[0;34m,\u001b[0m \u001b[0;34m'Langmuir_monolayers_C.xnet'\u001b[0m\u001b[0;34m)\u001b[0m\u001b[0;34m\u001b[0m\u001b[0;34m\u001b[0m\u001b[0m\n\u001b[0m",
            "\u001b[0;32m/usr/local/lib/python3.10/dist-packages/xnetwork/xnet_core.py\u001b[0m in \u001b[0;36migraph2xnet\u001b[0;34m(g, fileName, ignoredNodeAtts, ignoredEdgeAtts, compressed)\u001b[0m\n\u001b[1;32m    329\u001b[0m     \u001b[0;32mfor\u001b[0m \u001b[0matt\u001b[0m \u001b[0;32min\u001b[0m \u001b[0mnodesAtt\u001b[0m\u001b[0;34m:\u001b[0m\u001b[0;34m\u001b[0m\u001b[0;34m\u001b[0m\u001b[0m\n\u001b[1;32m    330\u001b[0m         \u001b[0;32mif\u001b[0m \u001b[0matt\u001b[0m \u001b[0;32mnot\u001b[0m \u001b[0;32min\u001b[0m \u001b[0mignoredNodeAtts\u001b[0m\u001b[0;34m:\u001b[0m\u001b[0;34m\u001b[0m\u001b[0;34m\u001b[0m\u001b[0m\n\u001b[0;32m--> 331\u001b[0;31m             \u001b[0msample\u001b[0m \u001b[0;34m=\u001b[0m \u001b[0mg\u001b[0m\u001b[0;34m.\u001b[0m\u001b[0mvs\u001b[0m\u001b[0;34m[\u001b[0m\u001b[0;36m0\u001b[0m\u001b[0;34m]\u001b[0m\u001b[0;34m[\u001b[0m\u001b[0matt\u001b[0m\u001b[0;34m]\u001b[0m\u001b[0;34m\u001b[0m\u001b[0;34m\u001b[0m\u001b[0m\n\u001b[0m\u001b[1;32m    332\u001b[0m \u001b[0;34m\u001b[0m\u001b[0m\n\u001b[1;32m    333\u001b[0m             \u001b[0mtypeSample\u001b[0m \u001b[0;34m=\u001b[0m \u001b[0mtype\u001b[0m\u001b[0;34m(\u001b[0m\u001b[0msample\u001b[0m\u001b[0;34m)\u001b[0m\u001b[0;34m\u001b[0m\u001b[0;34m\u001b[0m\u001b[0m\n",
            "\u001b[0;31mIndexError\u001b[0m: vertex index out of range"
          ]
        }
      ],
      "source": [
        "net = xnet.xnet2igraph('./Langmuir_monolayers_infomap.xnet')\n",
        "net_2 = net.vs.select(ClusterIndex_ne=2.0)\n",
        "net.delete_vertices(net_2)\n",
        "xnet.igraph2xnet(net, 'Langmuir_monolayers_C.xnet')"
      ]
    },
    {
      "cell_type": "code",
      "source": [],
      "metadata": {
        "id": "B_ZYKTDxLrpH"
      },
      "execution_count": null,
      "outputs": []
    }
  ],
  "metadata": {
    "language_info": {
      "name": "python"
    },
    "colab": {
      "provenance": []
    },
    "kernelspec": {
      "name": "python3",
      "display_name": "Python 3"
    }
  },
  "nbformat": 4,
  "nbformat_minor": 0
}